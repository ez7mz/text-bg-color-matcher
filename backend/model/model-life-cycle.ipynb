{
  "cells": [
    {
      "cell_type": "markdown",
      "metadata": {},
      "source": [
        "## Data Preprocessing"
      ]
    },
    {
      "cell_type": "code",
      "execution_count": 10,
      "metadata": {
        "id": "hvFhSurMNUnw"
      },
      "outputs": [],
      "source": [
        "import pandas as pd\n",
        "from sklearn.preprocessing import LabelEncoder\n",
        "from sklearn.model_selection import train_test_split\n",
        "from sklearn.preprocessing import MinMaxScaler"
      ]
    },
    {
      "cell_type": "code",
      "execution_count": 11,
      "metadata": {
        "id": "gIdRdlAuNgHx"
      },
      "outputs": [],
      "source": [
        "# Load the dataset from the CSV file\n",
        "csv_file = 'data/color_dataset.csv'\n",
        "df = pd.read_csv(csv_file)"
      ]
    },
    {
      "cell_type": "code",
      "execution_count": 13,
      "metadata": {
        "colab": {
          "base_uri": "https://localhost:8080/"
        },
        "id": "YTlGzcS2OCRD",
        "outputId": "3d92e917-c233-4621-b3dc-e83c8bea0115"
      },
      "outputs": [
        {
          "name": "stdout",
          "output_type": "stream",
          "text": [
            "     R    G    B Text_Color\n",
            "0  165  254  251      black\n",
            "1  105  243  172      black\n",
            "2   98   30  170      white\n",
            "3  116  105  175      white\n",
            "4   24  204  100      white\n"
          ]
        }
      ],
      "source": [
        "# Display the first few rows of the dataset\n",
        "print(df.head())"
      ]
    },
    {
      "cell_type": "code",
      "execution_count": 14,
      "metadata": {
        "id": "T3x0Vbu0OF7b"
      },
      "outputs": [],
      "source": [
        "# Separate features (RGB values) and labels (Text_Color)\n",
        "X = df[['R', 'G', 'B']]\n",
        "y = df['Text_Color']"
      ]
    },
    {
      "cell_type": "code",
      "execution_count": 15,
      "metadata": {
        "id": "i51UAh5cOJ4Z"
      },
      "outputs": [],
      "source": [
        "# Normalize the RGB values (scaling between 0 and 1)\n",
        "scaler = MinMaxScaler()\n",
        "X_scaled = scaler.fit_transform(X)\n",
        "X_normalized = pd.DataFrame(X_scaled, columns=X.columns)"
      ]
    },
    {
      "cell_type": "code",
      "execution_count": 16,
      "metadata": {
        "id": "UUQQa9gKOLAT"
      },
      "outputs": [],
      "source": [
        "# Convert text labels to numerical format using LabelEncoder\n",
        "label_encoder = LabelEncoder()\n",
        "y_encoded = label_encoder.fit_transform(y)"
      ]
    },
    {
      "cell_type": "code",
      "execution_count": 17,
      "metadata": {
        "id": "n4KIh-edOO2E"
      },
      "outputs": [],
      "source": [
        "# Split the dataset into training and testing sets\n",
        "X_train, X_test, y_train, y_test = train_test_split(X_normalized, y_encoded, test_size=0.2, random_state=42)"
      ]
    },
    {
      "cell_type": "code",
      "execution_count": 18,
      "metadata": {
        "colab": {
          "base_uri": "https://localhost:8080/"
        },
        "id": "4MwSPXH9OR7s",
        "outputId": "d7a728ee-518b-4cdb-a3c1-f19e214ec507"
      },
      "outputs": [
        {
          "name": "stdout",
          "output_type": "stream",
          "text": [
            "X_train shape: (776537, 3), y_train shape: (776537,)\n",
            "X_test shape: (194135, 3), y_test shape: (194135,)\n"
          ]
        }
      ],
      "source": [
        "# Display the shape of training and testing sets\n",
        "print(f\"X_train shape: {X_train.shape}, y_train shape: {y_train.shape}\")\n",
        "print(f\"X_test shape: {X_test.shape}, y_test shape: {y_test.shape}\")"
      ]
    },
    {
      "cell_type": "markdown",
      "metadata": {
        "id": "tKz9LgmpOevR"
      },
      "source": [
        "## Model Building"
      ]
    },
    {
      "cell_type": "code",
      "execution_count": 19,
      "metadata": {
        "id": "u6nvSFKKOguD"
      },
      "outputs": [],
      "source": [
        "import torch\n",
        "import torch.nn as nn\n",
        "import torch.optim as optim"
      ]
    },
    {
      "cell_type": "code",
      "execution_count": 20,
      "metadata": {
        "id": "8lhYjiJaOkm0"
      },
      "outputs": [],
      "source": [
        "# Define the neural network architecture\n",
        "class ColorPredictor(nn.Module):\n",
        "    def __init__(self, input_size, hidden_size, output_size):\n",
        "        super(ColorPredictor, self).__init__()\n",
        "        self.fc1 = nn.Linear(input_size, hidden_size)\n",
        "        self.relu = nn.ReLU()\n",
        "        self.fc2 = nn.Linear(hidden_size, output_size)\n",
        "        self.sigmoid = nn.Sigmoid()\n",
        "\n",
        "    def forward(self, x):\n",
        "        out = self.fc1(x)\n",
        "        out = self.relu(out)\n",
        "        out = self.fc2(out)\n",
        "        out = self.sigmoid(out)\n",
        "        return out"
      ]
    },
    {
      "cell_type": "code",
      "execution_count": 21,
      "metadata": {
        "id": "RsnY3RMcOnJb"
      },
      "outputs": [],
      "source": [
        "# Set hyperparameters\n",
        "input_size = 3  # Input size (R, G, B values)\n",
        "hidden_size = 16  # Number of neurons in the hidden layer\n",
        "output_size = 1  # Output size (binary classification)"
      ]
    },
    {
      "cell_type": "code",
      "execution_count": 22,
      "metadata": {
        "id": "KQQFI9aLOqV6"
      },
      "outputs": [],
      "source": [
        "# Create the model instance\n",
        "model = ColorPredictor(input_size, hidden_size, output_size)"
      ]
    },
    {
      "cell_type": "code",
      "execution_count": 23,
      "metadata": {
        "id": "7YSWkvRaOs-o"
      },
      "outputs": [],
      "source": [
        "# Define loss function and optimizer\n",
        "criterion = nn.BCELoss()\n",
        "optimizer = optim.Adam(model.parameters(), lr=0.001)"
      ]
    },
    {
      "cell_type": "markdown",
      "metadata": {
        "id": "c4Uxi_1pOuXG"
      },
      "source": [
        "## Training"
      ]
    },
    {
      "cell_type": "code",
      "execution_count": 24,
      "metadata": {
        "id": "4gc7GbbTO01q"
      },
      "outputs": [],
      "source": [
        "# Convert data to PyTorch tensors\n",
        "X_train_tensor = torch.tensor(X_train.values, dtype=torch.float32)\n",
        "y_train_tensor = torch.tensor(y_train, dtype=torch.float32).view(-1, 1)  # Reshape for BCELoss"
      ]
    },
    {
      "cell_type": "code",
      "execution_count": 25,
      "metadata": {
        "id": "rlGbXpxwPAfk"
      },
      "outputs": [],
      "source": [
        "# Define number of epochs and batch size\n",
        "num_epochs = 100\n",
        "batch_size = 64"
      ]
    },
    {
      "cell_type": "code",
      "execution_count": 26,
      "metadata": {
        "colab": {
          "base_uri": "https://localhost:8080/"
        },
        "id": "XW_-bGrGPDgN",
        "outputId": "ff186648-723f-44cc-ccc5-c92bbac996b8"
      },
      "outputs": [
        {
          "name": "stdout",
          "output_type": "stream",
          "text": [
            "Epoch [1/100], Loss: 0.0946\n",
            "Epoch [2/100], Loss: 0.0250\n",
            "Epoch [3/100], Loss: 0.0182\n",
            "Epoch [4/100], Loss: 0.0150\n",
            "Epoch [5/100], Loss: 0.0130\n",
            "Epoch [6/100], Loss: 0.0116\n",
            "Epoch [7/100], Loss: 0.0106\n",
            "Epoch [8/100], Loss: 0.0098\n",
            "Epoch [9/100], Loss: 0.0092\n",
            "Epoch [10/100], Loss: 0.0086\n",
            "Epoch [11/100], Loss: 0.0082\n",
            "Epoch [12/100], Loss: 0.0078\n",
            "Epoch [13/100], Loss: 0.0075\n",
            "Epoch [14/100], Loss: 0.0072\n",
            "Epoch [15/100], Loss: 0.0069\n",
            "Epoch [16/100], Loss: 0.0067\n",
            "Epoch [17/100], Loss: 0.0065\n",
            "Epoch [18/100], Loss: 0.0063\n",
            "Epoch [19/100], Loss: 0.0061\n",
            "Epoch [20/100], Loss: 0.0059\n",
            "Epoch [21/100], Loss: 0.0058\n",
            "Epoch [22/100], Loss: 0.0056\n",
            "Epoch [23/100], Loss: 0.0055\n",
            "Epoch [24/100], Loss: 0.0054\n",
            "Epoch [25/100], Loss: 0.0053\n",
            "Epoch [26/100], Loss: 0.0052\n",
            "Epoch [27/100], Loss: 0.0051\n",
            "Epoch [28/100], Loss: 0.0050\n",
            "Epoch [29/100], Loss: 0.0049\n",
            "Epoch [30/100], Loss: 0.0048\n",
            "Epoch [31/100], Loss: 0.0047\n",
            "Epoch [32/100], Loss: 0.0046\n",
            "Epoch [33/100], Loss: 0.0046\n",
            "Epoch [34/100], Loss: 0.0045\n",
            "Epoch [35/100], Loss: 0.0044\n",
            "Epoch [36/100], Loss: 0.0044\n",
            "Epoch [37/100], Loss: 0.0043\n",
            "Epoch [38/100], Loss: 0.0042\n",
            "Epoch [39/100], Loss: 0.0042\n",
            "Epoch [40/100], Loss: 0.0041\n",
            "Epoch [41/100], Loss: 0.0041\n",
            "Epoch [42/100], Loss: 0.0040\n",
            "Epoch [43/100], Loss: 0.0040\n",
            "Epoch [44/100], Loss: 0.0039\n",
            "Epoch [45/100], Loss: 0.0039\n",
            "Epoch [46/100], Loss: 0.0039\n",
            "Epoch [47/100], Loss: 0.0038\n",
            "Epoch [48/100], Loss: 0.0038\n",
            "Epoch [49/100], Loss: 0.0037\n",
            "Epoch [50/100], Loss: 0.0037\n",
            "Epoch [51/100], Loss: 0.0037\n",
            "Epoch [52/100], Loss: 0.0036\n",
            "Epoch [53/100], Loss: 0.0036\n",
            "Epoch [54/100], Loss: 0.0036\n",
            "Epoch [55/100], Loss: 0.0035\n",
            "Epoch [56/100], Loss: 0.0035\n",
            "Epoch [57/100], Loss: 0.0035\n",
            "Epoch [58/100], Loss: 0.0034\n",
            "Epoch [59/100], Loss: 0.0034\n",
            "Epoch [60/100], Loss: 0.0034\n",
            "Epoch [61/100], Loss: 0.0033\n",
            "Epoch [62/100], Loss: 0.0033\n",
            "Epoch [63/100], Loss: 0.0033\n",
            "Epoch [64/100], Loss: 0.0033\n",
            "Epoch [65/100], Loss: 0.0032\n",
            "Epoch [66/100], Loss: 0.0032\n",
            "Epoch [67/100], Loss: 0.0032\n",
            "Epoch [68/100], Loss: 0.0032\n",
            "Epoch [69/100], Loss: 0.0031\n",
            "Epoch [70/100], Loss: 0.0031\n",
            "Epoch [71/100], Loss: 0.0031\n",
            "Epoch [72/100], Loss: 0.0031\n",
            "Epoch [73/100], Loss: 0.0031\n",
            "Epoch [74/100], Loss: 0.0030\n",
            "Epoch [75/100], Loss: 0.0030\n",
            "Epoch [76/100], Loss: 0.0030\n",
            "Epoch [77/100], Loss: 0.0030\n",
            "Epoch [78/100], Loss: 0.0030\n",
            "Epoch [79/100], Loss: 0.0029\n",
            "Epoch [80/100], Loss: 0.0029\n",
            "Epoch [81/100], Loss: 0.0029\n",
            "Epoch [82/100], Loss: 0.0029\n",
            "Epoch [83/100], Loss: 0.0029\n",
            "Epoch [84/100], Loss: 0.0029\n",
            "Epoch [85/100], Loss: 0.0028\n",
            "Epoch [86/100], Loss: 0.0028\n",
            "Epoch [87/100], Loss: 0.0028\n",
            "Epoch [88/100], Loss: 0.0028\n",
            "Epoch [89/100], Loss: 0.0028\n",
            "Epoch [90/100], Loss: 0.0028\n",
            "Epoch [91/100], Loss: 0.0027\n",
            "Epoch [92/100], Loss: 0.0027\n",
            "Epoch [93/100], Loss: 0.0027\n",
            "Epoch [94/100], Loss: 0.0027\n",
            "Epoch [95/100], Loss: 0.0027\n",
            "Epoch [96/100], Loss: 0.0027\n",
            "Epoch [97/100], Loss: 0.0027\n",
            "Epoch [98/100], Loss: 0.0026\n",
            "Epoch [99/100], Loss: 0.0026\n",
            "Epoch [100/100], Loss: 0.0026\n"
          ]
        }
      ],
      "source": [
        "# Training loop\n",
        "for epoch in range(num_epochs):\n",
        "    epoch_loss = 0.0\n",
        "    for i in range(0, len(X_train_tensor), batch_size):\n",
        "        # Extract batch\n",
        "        inputs = X_train_tensor[i:i+batch_size]\n",
        "        labels = y_train_tensor[i:i+batch_size]\n",
        "\n",
        "        # Forward pass\n",
        "        outputs = model(inputs)\n",
        "\n",
        "        # Compute loss\n",
        "        loss = criterion(outputs, labels)\n",
        "\n",
        "        # Backpropagation and optimization\n",
        "        optimizer.zero_grad()\n",
        "        loss.backward()\n",
        "        optimizer.step()\n",
        "\n",
        "        epoch_loss += loss.item()\n",
        "\n",
        "    # Print average loss for each epoch\n",
        "    print(f'Epoch [{epoch+1}/{num_epochs}], Loss: {epoch_loss / (len(X_train_tensor) / batch_size):.4f}')"
      ]
    },
    {
      "cell_type": "markdown",
      "metadata": {
        "id": "mHNmL6tWWuem"
      },
      "source": [
        "## Evaluation"
      ]
    },
    {
      "cell_type": "code",
      "execution_count": 27,
      "metadata": {
        "id": "GjjcGRZSWv0v"
      },
      "outputs": [],
      "source": [
        "# Convert test data to PyTorch tensors\n",
        "X_test_tensor = torch.tensor(X_test.values, dtype=torch.float32)\n",
        "y_test_tensor = torch.tensor(y_test, dtype=torch.float32).view(-1, 1)  # Reshape for BCELoss"
      ]
    },
    {
      "cell_type": "code",
      "execution_count": 28,
      "metadata": {
        "colab": {
          "base_uri": "https://localhost:8080/"
        },
        "id": "3CR0yEZsWzqq",
        "outputId": "06b4e595-db06-4adb-e2d4-68cd19d73f34"
      },
      "outputs": [
        {
          "name": "stdout",
          "output_type": "stream",
          "text": [
            "Test Loss: 0.0040, Accuracy: 99.76%\n"
          ]
        }
      ],
      "source": [
        "# Evaluate the model\n",
        "model.eval()  # Set model to evaluation mode\n",
        "with torch.no_grad():\n",
        "    test_outputs = model(X_test_tensor)\n",
        "    test_loss = criterion(test_outputs, y_test_tensor)\n",
        "\n",
        "    # Convert outputs to binary predictions (0 or 1)\n",
        "    predicted_labels = (test_outputs > 0.5).float()\n",
        "\n",
        "    # Calculate accuracy\n",
        "    correct = (predicted_labels == y_test_tensor).sum().item()\n",
        "    total = y_test_tensor.size(0)\n",
        "    accuracy = correct / total\n",
        "\n",
        "    print(f'Test Loss: {test_loss.item():.4f}, Accuracy: {accuracy * 100:.2f}%')"
      ]
    },
    {
      "cell_type": "markdown",
      "metadata": {
        "id": "PZGBnG5dXC1U"
      },
      "source": [
        "## Inference"
      ]
    },
    {
      "cell_type": "code",
      "execution_count": 29,
      "metadata": {
        "id": "CcX_-fyPXFLx"
      },
      "outputs": [],
      "source": [
        "# Function to predict text color given a background color\n",
        "def predict_text_color(model, scaler, color):\n",
        "    # Normalize the input color using the same scaler used for training data\n",
        "    normalized_color = scaler.transform([color])\n",
        "\n",
        "    # Convert the normalized color to a PyTorch tensor\n",
        "    input_tensor = torch.tensor(normalized_color, dtype=torch.float32)\n",
        "\n",
        "    # Perform prediction\n",
        "    model.eval()\n",
        "    with torch.no_grad():\n",
        "        output = model(input_tensor)\n",
        "        predicted_label = 'white' if output > 0.5 else 'black'\n",
        "\n",
        "    return predicted_label"
      ]
    },
    {
      "cell_type": "code",
      "execution_count": 32,
      "metadata": {
        "colab": {
          "base_uri": "https://localhost:8080/"
        },
        "id": "8mmFjhIHXINe",
        "outputId": "8eea3b2f-d43a-42cd-de6d-6013485ec6f2"
      },
      "outputs": [
        {
          "name": "stdout",
          "output_type": "stream",
          "text": [
            "Predicted text color for background color [180, 105, 178]: black\n"
          ]
        },
        {
          "name": "stderr",
          "output_type": "stream",
          "text": [
            "/usr/local/lib/python3.10/dist-packages/sklearn/base.py:439: UserWarning: X does not have valid feature names, but MinMaxScaler was fitted with feature names\n",
            "  warnings.warn(\n"
          ]
        }
      ],
      "source": [
        "# Example background color (R, G, B values)\n",
        "background_color = [180, 105, 178]  # Change this color as needed\n",
        "\n",
        "# Use the trained model and scaler for inference\n",
        "predicted_text_color = predict_text_color(model, scaler, background_color)\n",
        "print(f'Predicted text color for background color {background_color}: {predicted_text_color}')"
      ]
    },
    {
      "cell_type": "markdown",
      "metadata": {
        "id": "jGfnEBuPkXPd"
      },
      "source": [
        "## Export the Model"
      ]
    },
    {
      "cell_type": "code",
      "execution_count": 33,
      "metadata": {
        "id": "X3dEe987e7rA"
      },
      "outputs": [],
      "source": [
        "# Save the model state dictionary\n",
        "torch.save(model.state_dict(), 'color_predictor_model.pth')"
      ]
    },
    {
      "cell_type": "markdown",
      "metadata": {
        "id": "f7wYY-iSnMTG"
      },
      "source": [
        "## Import Model for Future API usage"
      ]
    },
    {
      "cell_type": "code",
      "execution_count": 44,
      "metadata": {
        "colab": {
          "base_uri": "https://localhost:8080/"
        },
        "id": "YLMV8wfdnShB",
        "outputId": "8de35459-ca1d-496e-92c5-e5b5c54b6854"
      },
      "outputs": [
        {
          "data": {
            "text/plain": [
              "ColorPredictor(\n",
              "  (fc1): Linear(in_features=3, out_features=16, bias=True)\n",
              "  (relu): ReLU()\n",
              "  (fc2): Linear(in_features=16, out_features=1, bias=True)\n",
              "  (sigmoid): Sigmoid()\n",
              ")"
            ]
          },
          "execution_count": 44,
          "metadata": {},
          "output_type": "execute_result"
        }
      ],
      "source": [
        "# Load the saved model state dictionary\n",
        "model.load_state_dict(torch.load('color_predictor_model.pth'))\n",
        "model.eval()  # Set the model to evaluation mode\n"
      ]
    },
    {
      "cell_type": "code",
      "execution_count": 45,
      "metadata": {
        "colab": {
          "base_uri": "https://localhost:8080/"
        },
        "id": "VXTiqQ4Znc-2",
        "outputId": "152eaa6f-193b-414d-89f4-2f01c3f947cc"
      },
      "outputs": [
        {
          "name": "stdout",
          "output_type": "stream",
          "text": [
            "Predicted text color for background color [0, 0, 0]: white\n"
          ]
        },
        {
          "name": "stderr",
          "output_type": "stream",
          "text": [
            "/usr/local/lib/python3.10/dist-packages/sklearn/base.py:439: UserWarning: X does not have valid feature names, but MinMaxScaler was fitted with feature names\n",
            "  warnings.warn(\n"
          ]
        }
      ],
      "source": [
        "# Example background color (R, G, B values)\n",
        "background_color = [0, 0, 0]  # Change this color as needed\n",
        "\n",
        "# Use the trained model and scaler for inference\n",
        "predicted_text_color = predict_text_color(model, scaler, background_color)\n",
        "print(f'Predicted text color for background color {background_color}: {predicted_text_color}')"
      ]
    }
  ],
  "metadata": {
    "colab": {
      "provenance": []
    },
    "kernelspec": {
      "display_name": "Python 3",
      "name": "python3"
    },
    "language_info": {
      "name": "python"
    }
  },
  "nbformat": 4,
  "nbformat_minor": 0
}
